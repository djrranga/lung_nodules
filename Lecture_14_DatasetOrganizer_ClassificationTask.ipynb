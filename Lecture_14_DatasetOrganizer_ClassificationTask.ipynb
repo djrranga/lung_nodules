{
 "cells": [
  {
   "cell_type": "markdown",
   "id": "8dd56666",
   "metadata": {},
   "source": [
    "## Dataset link:\n",
    "https://www.kaggle.com/competitions/aptos2019-blindness-detection/overview"
   ]
  },
  {
   "cell_type": "code",
   "execution_count": 1,
   "id": "0ef2049d",
   "metadata": {},
   "outputs": [],
   "source": [
    "import numpy as np\n",
    "import pandas as pd\n",
    "from tqdm import tqdm\n",
    "from glob import glob\n",
    "import os, cv2, shutil\n",
    "from zipfile import ZipFile\n",
    "import matplotlib.pyplot as plt\n",
    "from sklearn.utils import shuffle\n",
    "from keras.utils import np_utils, to_categorical\n",
    "from tensorflow.keras.preprocessing.image import img_to_array"
   ]
  },
  {
   "cell_type": "code",
   "execution_count": 2,
   "id": "41e63c5e",
   "metadata": {},
   "outputs": [],
   "source": [
    "dataset = []\n",
    "labels  = []"
   ]
  },
  {
   "cell_type": "code",
   "execution_count": 3,
   "id": "4df4cccc",
   "metadata": {},
   "outputs": [],
   "source": [
    "def prepare_Images(label , path):\n",
    "    img=cv2.imread(path,cv2.IMREAD_COLOR)\n",
    "    img_res=cv2.resize(img,(200,200))/255\n",
    "    img_array = img_to_array(img_res)\n",
    "    dataset.append(img_array)\n",
    "    labels.append(str(label))"
   ]
  },
  {
   "cell_type": "code",
   "execution_count": 5,
   "id": "da758198",
   "metadata": {},
   "outputs": [
    {
     "data": {
      "text/html": [
       "<div>\n",
       "<style scoped>\n",
       "    .dataframe tbody tr th:only-of-type {\n",
       "        vertical-align: middle;\n",
       "    }\n",
       "\n",
       "    .dataframe tbody tr th {\n",
       "        vertical-align: top;\n",
       "    }\n",
       "\n",
       "    .dataframe thead th {\n",
       "        text-align: right;\n",
       "    }\n",
       "</style>\n",
       "<table border=\"1\" class=\"dataframe\">\n",
       "  <thead>\n",
       "    <tr style=\"text-align: right;\">\n",
       "      <th></th>\n",
       "      <th>id_code</th>\n",
       "      <th>diagnosis</th>\n",
       "    </tr>\n",
       "  </thead>\n",
       "  <tbody>\n",
       "    <tr>\n",
       "      <th>0</th>\n",
       "      <td>000c1434d8d7</td>\n",
       "      <td>2</td>\n",
       "    </tr>\n",
       "    <tr>\n",
       "      <th>1</th>\n",
       "      <td>001639a390f0</td>\n",
       "      <td>4</td>\n",
       "    </tr>\n",
       "    <tr>\n",
       "      <th>2</th>\n",
       "      <td>0024cdab0c1e</td>\n",
       "      <td>1</td>\n",
       "    </tr>\n",
       "    <tr>\n",
       "      <th>3</th>\n",
       "      <td>002c21358ce6</td>\n",
       "      <td>0</td>\n",
       "    </tr>\n",
       "    <tr>\n",
       "      <th>4</th>\n",
       "      <td>005b95c28852</td>\n",
       "      <td>0</td>\n",
       "    </tr>\n",
       "  </tbody>\n",
       "</table>\n",
       "</div>"
      ],
      "text/plain": [
       "        id_code  diagnosis\n",
       "0  000c1434d8d7          2\n",
       "1  001639a390f0          4\n",
       "2  0024cdab0c1e          1\n",
       "3  002c21358ce6          0\n",
       "4  005b95c28852          0"
      ]
     },
     "execution_count": 5,
     "metadata": {},
     "output_type": "execute_result"
    }
   ],
   "source": [
    "user_folder = os.path.expanduser('~')\n",
    "data_folder = os.path.join(user_folder, 'Desktop', 'Course_files')\n",
    "train_Data = pd.read_csv(os.path.join(data_folder, 'train.csv'))\n",
    "train_Data.head()"
   ]
  },
  {
   "cell_type": "code",
   "execution_count": 6,
   "id": "cd373522",
   "metadata": {},
   "outputs": [],
   "source": [
    "id_code_Data   = train_Data['id_code']\n",
    "diagnosis_Data = train_Data['diagnosis']"
   ]
  },
  {
   "cell_type": "code",
   "execution_count": 7,
   "id": "bc51e7fd",
   "metadata": {},
   "outputs": [
    {
     "name": "stderr",
     "output_type": "stream",
     "text": [
      "3662it [05:45, 10.61it/s]\n"
     ]
    }
   ],
   "source": [
    "for id_code,diagnosis in tqdm(zip(id_code_Data, diagnosis_Data)):\n",
    "    path = os.path.join(data_folder, 'train_images','{}.png'.format(id_code))\n",
    "    prepare_Images(diagnosis,path)"
   ]
  },
  {
   "cell_type": "code",
   "execution_count": 8,
   "id": "d5ea5531",
   "metadata": {},
   "outputs": [],
   "source": [
    "images = np.array(dataset)\n",
    "label_arr = np.array(labels)"
   ]
  },
  {
   "cell_type": "code",
   "execution_count": 9,
   "id": "52da871a",
   "metadata": {},
   "outputs": [
    {
     "data": {
      "text/plain": [
       "((3662, 200, 200, 3), (3662,))"
      ]
     },
     "execution_count": 9,
     "metadata": {},
     "output_type": "execute_result"
    }
   ],
   "source": [
    "images.shape, label_arr.shape"
   ]
  },
  {
   "cell_type": "code",
   "execution_count": 10,
   "id": "1a41b5c4",
   "metadata": {},
   "outputs": [],
   "source": [
    "unique, counts = np.unique(label_arr, return_counts=True)"
   ]
  },
  {
   "cell_type": "code",
   "execution_count": 11,
   "id": "70527c5f",
   "metadata": {},
   "outputs": [
    {
     "data": {
      "image/png": "[encoded data removed]",
      "text/plain": [
       "<Figure size 432x288 with 1 Axes>"
      ]
     },
     "metadata": {
      "needs_background": "light"
     },
     "output_type": "display_data"
    }
   ],
   "source": [
    "plt.bar(unique, counts)\n",
    "plt.title('Distribution of diagnosis per severity')\n",
    "plt.xlabel('Severity level')\n",
    "plt.ylabel('Class frequency')\n",
    "plt.show()"
   ]
  },
  {
   "cell_type": "code",
   "execution_count": 11,
   "id": "837c6cf8",
   "metadata": {},
   "outputs": [],
   "source": [
    "X_total, Y_total = shuffle(images, label_arr)"
   ]
  },
  {
   "cell_type": "code",
   "execution_count": 12,
   "id": "89f44bdd",
   "metadata": {},
   "outputs": [],
   "source": [
    "train_labels = to_categorical(label_arr, num_classes = 5, dtype =\"uint8\") "
   ]
  },
  {
   "cell_type": "code",
   "execution_count": 13,
   "id": "522db9ce",
   "metadata": {},
   "outputs": [
    {
     "data": {
      "text/plain": [
       "array([[0, 0, 1, 0, 0],\n",
       "       [0, 0, 0, 0, 1],\n",
       "       [0, 1, 0, 0, 0],\n",
       "       ...,\n",
       "       [0, 0, 1, 0, 0],\n",
       "       [1, 0, 0, 0, 0],\n",
       "       [0, 0, 1, 0, 0]], dtype=uint8)"
      ]
     },
     "execution_count": 13,
     "metadata": {},
     "output_type": "execute_result"
    }
   ],
   "source": [
    "train_labels"
   ]
  },
  {
   "cell_type": "code",
   "execution_count": 14,
   "id": "e8f52866",
   "metadata": {},
   "outputs": [
    {
     "data": {
      "text/plain": [
       "array(['2', '4', '1', ..., '2', '0', '2'], dtype='<U1')"
      ]
     },
     "execution_count": 14,
     "metadata": {},
     "output_type": "execute_result"
    }
   ],
   "source": [
    "label_arr"
   ]
  },
  {
   "cell_type": "code",
   "execution_count": null,
   "id": "c10d109d",
   "metadata": {},
   "outputs": [],
   "source": []
  }
 ],
 "metadata": {
  "kernelspec": {
   "display_name": "bmme575",
   "language": "python",
   "name": "python3"
  },
  "language_info": {
   "codemirror_mode": {
    "name": "ipython",
    "version": 3
   },
   "file_extension": ".py",
   "mimetype": "text/x-python",
   "name": "python",
   "nbconvert_exporter": "python",
   "pygments_lexer": "ipython3",
   "version": "3.13.5"
  }
 },
 "nbformat": 4,
 "nbformat_minor": 5
}
